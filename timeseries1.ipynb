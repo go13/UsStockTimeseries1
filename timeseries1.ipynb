{
 "cells": [
  {
   "cell_type": "code",
   "execution_count": 1,
   "id": "initial_id",
   "metadata": {},
   "outputs": [
    {
     "name": "stdout",
     "output_type": "stream",
     "text": [
      "False\n"
     ]
    }
   ],
   "source": [
    "import os\n",
    "import torch\n",
    "import time\n",
    "from dataloader import TimeseriesDataloader\n",
    "from karpathy_transformer import KarpathyTransformerRunner\n",
    "from transformer_common import TransformerConfig\n",
    "print(torch.cuda.is_available())\n",
    "\n",
    "# https://www.kaggle.com/datasets/footballjoe789/us-stock-dataset/data\n"
   ]
  },
  {
   "cell_type": "code",
   "execution_count": null,
   "id": "26b1eb6586d55caf",
   "metadata": {},
   "outputs": [],
   "source": [
    "# Start the timer\n",
    "start_time = time.time()\n",
    "\n",
    "input_tensor_file = 'stock_history_data.pt'\n",
    "\n",
    "if os.path.exists(input_tensor_file):\n",
    "    data = torch.load(input_tensor_file)\n",
    "    ln = len(data)\n",
    "    print(f\"Tensor loaded successfully: {input_tensor_file}, len={ln}\")\n",
    "else:\n",
    "    directory_path = './us-stock-dataset/Data/StockHistory'\n",
    "\n",
    "    all_files = [os.path.splitext(f)[0] for f in os.listdir(directory_path) if f.endswith('.csv')]\n",
    "\n",
    "    # stocks_to_load = [\n",
    "    #     \"AAPL\", \"TSLA\",\n",
    "    #     \"A\", \"GOOG\", \"AMZN\", \"PYPL\", \"NVDA\", \"AMD\",\n",
    "    #     \"NFLX\", \"MSFT\", \"INTC\", \"CSCO\", \"ADBE\", \"CRM\", \"QCOM\", \"TXN\", \"AVGO\",\n",
    "    #     \"INTU\", \"ORCL\", \"COST\", \"SBUX\", \"AMGN\", \"CHTR\", \"GILD\", \"CMCSA\", \"BKNG\",\n",
    "    #     \"MDLZ\", \"FISV\", \"BIIB\", \"MU\", \"MCD\", \"AMAT\", \"ADP\", \"ILMN\", \"ATVI\", \"ISRG\",\n",
    "    #     \"ADSK\", \"LRCX\", \"BIDU\", \"JD\", \"REGN\", \"WBA\", \"VRTX\", \"KHC\", \"WMT\", \"ZM\", \"MELI\",\n",
    "    #     \"TMUS\", \"CTSH\", \"XLNX\", \"PCAR\", \"ALGN\", \"WDAY\", \"SIRI\", \"CTXS\", \"ADI\", \"EXC\", \"LULU\",\n",
    "    #     \"MAR\", \"KLAC\", \"PAYX\", \"EA\", \"ILMN\", \"ALXN\", \"MNST\", \"BMRN\", \"EBAY\", \"CTAS\", \"VRSK\",\n",
    "    #     \"IDXX\", \"CDNS\", \"NXPI\", \"ASML\", \"INCY\", \"KLAC\", \"MCHP\", \"SNPS\", \"SWKS\", \"VRSN\",\n",
    "    #     \"WDC\", \"WYNN\", \"XLNX\", \"ZBRA\", \"ZTS\", \"AEP\", \"AIG\", \"ALL\", \"AXP\", \"BA\", \"BAC\",\n",
    "    #     \"BK\", \"BLK\", \"C\", \"CAT\", \"CL\", \"COF\", \"COP\", \"COST\", \"CSCO\", \"CVS\", \"CVX\",\n",
    "    #     \"DD\", \"DHR\", \"DIS\", \"DOW\", \"DUK\", \"EMR\", \"EXC\", \"F\", \"FDX\", \"GD\", \"GE\", \"GILD\",\n",
    "    #     \"GM\", \"GOOG\", \"GOOGL\", \"GS\", \"HD\", \"HON\", \"IBM\", \"INTC\", \"JNJ\", \"JPM\", \"KHC\", \"KMI\",\n",
    "    #     \"KO\", \"LLY\", \"LMT\", \"LOW\", \"MA\", \"MCD\", \"MDLZ\", \"MDT\", \"MET\", \"MMM\",\n",
    "    #     'BLND', 'BLNG', 'BLNKW', 'BLNGU', 'BLNGW', 'BLNK', 'BLPH', 'BLRX',\n",
    "    #     'BLTE', 'BLU', 'BLUA', 'BLUE', 'BLW', 'BLX', 'BLZE', 'BMA', 'BMAC', 'BMAQ', 'BMAQR', 'BMAQU',\n",
    "    #     'FUL', 'SNA', 'KLIC', 'OLN', 'TER', 'BKH', 'RVTY', 'MATX', 'AVT', 'NYT', 'CSL', 'TRN', 'TXT', \n",
    "    #     'LNT', 'EIX', 'CLF', 'MMC', 'CNA', 'CVS', 'HE', 'XEL', 'NFG', 'PNR', 'ITW', 'SPGI', 'BDX', 'WY', \n",
    "    #     'ECL', 'SGC', 'PHI', 'SYY', 'K', 'CPB', 'OGE', 'CLX', 'BMI', 'BAC', 'MSB', 'MKC', 'BK', 'TGT', \n",
    "    #     'MDT', 'UGI', 'EXC', 'USB', 'CL', 'MDU', 'BALL', 'HRB', 'NI', 'NEE', 'WLY', 'SJW', 'ETR', 'DD', \n",
    "    #     'HAL', 'DE', 'LLY', 'AXP', 'PCG', 'EMR', 'ETN', 'PEP', 'BMY', 'TXN', 'PBI', 'F', 'WFC', 'PFE', \n",
    "    #     'WMT', 'MCD', 'XRX', 'MSI', 'GT', 'FL', 'AEP', 'HON', 'AA', 'MMM', 'IP', 'CVX', 'GE', 'CAT', \n",
    "    #     'IBM', 'DTE', 'MRO', 'GD', 'RTX', 'ED', 'CNP', 'BP', 'PG', 'BA', 'JNJ', 'XOM', 'MRK', 'DIS', \n",
    "    #     'PWFL','HSTM','RDWR','BBGI','SCKT','BMRN','SLF','SMMF','UBS','IBN','NTCT','FLWS','MET','PRFT','IMNN',\n",
    "    #     'ECPG','GIGM','QMCO','AGEN','MNDO','KINS','GAIA','FNCB','CKX','PKG','DMRC','DHC','TRAK','LSAK','BMRC',\n",
    "    #     'UTHR','LCNB','SOTK','WYY','CVV','NKSH','VHC','IMMR','ATI','FFIV','ACHV','UPS','TKO','BGC','NOVT','UNB',\n",
    "    #     'BLK','A','SNN','FDBC','SBET','UONE','DSGX','HWBK','INO','AVNT','VABK','INUV','FSI','CX','SENEA','EGBN',\n",
    "    #     'EXTR','SIFY','FNLC','SKX','UGP','FMBH','ORRF','LII','TREX','MFC','GEG','SNDA','GCBC','PLPC','APT','MBWM',\n",
    "    #     'ZD','WCC','SWBI','ARLP','WTBA','CZFS','FCAP','FXNC','NAN','FISI','GIB','SBAC','ATLC','CVCY','SNGX','NAD','AUDC','NAC','HSBC','FCCO','AWX','GUT','YORW','UTMD','KT','PGC','MSTR','GS','BKNG','REPX','FUSB','CATC','PETS','TOWN','CNX','SHEN','UBFO','CFBK','HSII','AMNB','INVE','KZIA','BB','JNPR','CFFN','DXPE','HZO','TVE','MUE','SBFG','MKSI','CEV','SNBR','ABIO','ICLR','LOAN','MTEX','IX','BAK','CHMG','OSPN','EVN','AXTI','KFY','OPOF','VERU','GDEN','AXL','LBAI','HTLF','FMNB','EWBC','CLS','FNWD','RMTI','DCOM','BCDA','INFY','MANH','GEOS','GGB','SRDX','PB','TENX','NOTV','LEU','EFOI','MRCY','ASRT','VIV','NVDA','RDCM','TIMB','MTD','PAA','CWST','BUSE','FARO','OSIS','TTNP','DDT','DRQ','DENN','EVF','VCEL','CSGP','TVC','BKYI','HTBK','SRI','AEHR','ARMP','RBCAA','CCI','EBAY','EDAP','GVP','CFFI','CLAR','AU','IOSP','BELFB','FMX','CBAN','MCBC','SRE','RSG','DOX','IESC','WTFC','SRPT','SBSI','NWFL','CTSH','CRAI','EPD','CIX','HCKT','AMKR','WCN','GIL','HFWA','HLX','DSU','UVSP','COLM','CASI','ELP','CNXN','EGHT','MUJ','EEFT','MPB','BRKL','NICK','FHI','SPNS','MFA','HIX','SCS','MUC','VVR','WPC','VRSN','FORTY','RBA','ELLO','AMT','DHY','MAR','TSBK','CERS','PWR','INGR','MICS','KMX','RMBS','WLFC','HOPE','VSAT','NVAX','PRDO','AMG','BOSC','CSR','URI','CHNR','POWI','MPU','DHF','GPI','CTHR','AEE','EPR','CHRW','PLCE','PLD','PSMT','CAC','UNFI','ORAN','CM','SAH','CIEN','BHB','AIM','OPCH','MHN','MVIS','FE','FDP','TSM','INTT','LKFN','SLG','AVDL','YUM','SRCL','AXDX','MT','NAT','NLY','ESGR','JLL','WHLM','SIGA','NBIX','SCWO','VEON','PPBI','KVHI','MMS','PXD','IRIX','FIX','BXP','ANSS','WILC','CXW','OZK','RL','LFCR','RYAAY','ARE','STRM','LPTH','OCN','ALV','CRESY','SGRP','SLP','TTWO','GIFI','MHD','VTR','EMKR','PDS','SAM','IVAC','CLWT','LOGI','RDNT','ELTK','AMZN','ABEV','SSB','UNTY','WAVD','ERNA','NWPX','GOGL','KRC','NSP','MLSS','CWBC','SMSI','MTN','HLIO','RTO','PLUS','LAD','JAKK','WAT','ESLT','DGX','SLGN','PSO','DB','OPK','FORR','SELF','NUS','ENG','WDS','JCTCF','CHKP','TACT','VBFC','IART','VYX','CALM','GEL','CNI','PAG','HIBB','CHH','ARWR','BJRI','NOV','TGI','NVS','STLD','HIHO','MD','HLIT','FMS','STRA','CBZ','ANF','BYFC','TU','FCN','TCX','AWRE','TD','CSV','CASS','EPM','LAMR','TTEC','BLDP','DHIL','SRL','WVVI','PEGA','GERN','SID','SKM','MFIN','USAP','OCC','SSRM','POCI','RUSHB','PROV','GES','OCFC','CIG','CENX','QGEN','MXC','CPSH','TUP','RCG','PBHC','OLED','DVA','BVN','GEF','AZPN','GYRO','CBD','VECO','HDSN','NICE','CMCO','FORD','CSGS','AGX','ACHC','CCJ','ANDE','SMID','MPAA','MSM','HUBG','DIT','TSEM','BCO','SPH','AMED','RCI','MBOT','BANR','IRM','SGMA','SGU','HIG','HSIC','MATV','ITT','BAP','OTEX','UFPT','AEIS','RICK','FFIC','RY','AUBN','MYGN','IMAX','SCCO','EG','E','NTAP','CLB','BIOL','EL','DAR','BCRX','POOL','DSS','NAII','THG','SAP','GBR','ERIE','ACGL','ITRI','TLK','KFRC','NKTR','JAN','SCSC','IBOC','RNR','RWT','NSYS','TK','NHTC','WAB','USNA','NVEC','CLMB','CIB','IVZ','CNTY','HNRG','SVC','GIC','STGW','HA','LFVN','ACIW','AMRN',\n",
    "    #     'OHI','BLFS','RNST','MEOH','VTN','CHN','COLB','USPH','ARCB','LIN','CDZI','PRMW','NTIC','STE','THFF','DHI','KSS','AGCO','SBUX','LCTX','STBA','MYN','JACK','MYI','NXP','RGS','CRT','NBTB','ROP','BKE','JBSS','VGM','PHX','HQL','SBI','SMG','BRW','MODG','STZ','IIIN','SCHL','HOLX','NR','FCO','PFO','ZBRA','ATNI','CDP','PRGO','CRVL','DJCO','VKQ','BOKF','M','TTEK','DTF','HMN','MYD','EZPW','DGII','NHI','OI','LDWY','TELL','RHP','CRUS','WNC','ODFL','GILD','PTC','TTE','DAIO','KIM','QCOM','PRA','MITK','APH','DIN','LCUT','MNRO','ATGE','MTG','MGIC','PRGS','LSCC','FIZZ','XOMA','FCFS','HWC','HRTX','AES','DORM','MAYS','TRMB','CVM','NQP','DEO','X','ICCC','PFD','NRIM','CATY','MLI','PRK','ESE','MKL','GIII','CLH','AN','MXE','MMSI','DYNT','VICR','EXPO','CLFD','RIO','BHE','AVNW','CLDX','EVI','BANF','GVA','LH','KMPR','PDEX','VLY','JOF','TTI','JOE','MTW','CEE','SAFE','DDD','CRH','GSBC','GF','IGT','DLHC','PDT','CTRA','HOV','DSM','SNV','EOG','ANIX','CSCO','EA','AEF','MFV','FRME','NEOG','TG','RGEN','CGNX','IEX','VLT','DXLG','CXH','HIFS','STKL','KSM','COHR','MCR','GEN','LWAY','BPT','NVR','CLRO','MGPI','ICAD','BOOM','PMM','PLAB','DRS','TECH','CMT','LNN','BBVA','CXE','MAN','JMM','MHF','ASYS','KTF','SIG','DMF','MERC','MPV','ZTR','MTH','MVF','VGZ','USM','OIA','ODP','CRMT','VOD','CDNS','SSP','FT','REFR','WM','NMI','BKT','BMRA','FUND','PLXS','NEN','MGM','CTBI','WPP','DX','NBN','AB','IOR','IPAR','PPC','CPF','HYB','JOUT','SNFCA','MOS','CRK','CRF','CIF','OSUR','CHCO','IMKTA','TATT','DXYN','SABA','PIM','NNY','FICO','AIN','NCA','WASH','JCI','XRAY','MIN','MIDD','KEY','PII','CNMD','PPT','LEO','FBNC','CAMP','AXGN','WSBC','SWZ','CCL','IEP','SCHW','UBSI','FLIC','SAN','PMD','MBI','ITIC','KTCC','NUV','CCRD','FUN','OFG','FBP','FAST','FCNCA','TEF','PCF','TWN','DGICB','AVD','NHC','CATO','VGR','FRPH','EMF','BKR','TJX','FONR','HQH','UHT','AMWD','EQC','BRC','FNB','WBS','MGF','WSFS','CMU','FI','LNW','LAKE','PTSI','EHC','TMP','DNP','CCEP','MFM','RVT','TSI','ADBE','PNRG','MRTN','MMT','CIK','WTS','UNM','HTLD','BDN','RDI','INDB','EEA','BCS','WKC','ASTE','KBH','COST','SENEB','TOL','RMCF','SKYW','ABEO','HOG','WERN','ECF','USA','BCPC','PEBK','JJSF','GHI','KELYB','WTM','TROW','ARKR','GAB','IBCP','TCI','CBU','MCY','ASG','OSK','FULT','CADE','FAX','ORCL','JKHY','DVN','MSFT','LCII','ADSK','CMCL','UUU','IAF','SFNC','MNST','UTL','BIG','GROW','AEG','LYTS','UMH','DY','DOC','ROST','AIRT','ASRV','MGRC','BBY','AMS','KF','GOLD','DOMH','NNN','MGA','PAR','MLAB','SWKS','REX','WSO','UNH','ONB','EXPD','SHYF','SBCF','TAYD','LRCX','AJG','TISI','AME','UNF','RELL','MU','GBCI','FFBC','ENB','DXR','RES','THO','RAMP','EAT','ATO','CULP','BELFA','SHEL','RCMT','JBHT','TURN','SRCE','VALU','CAR','CTAS','CASY','HCSG','TRNS','AMD','WLYB','CP','CAH','AOS','SMTC','OLP','T','WSM','BN','ARL','TRST','BEN','TILE','SF','TARO','PAYX','CVBF','RJF','SLM','CACI','ARW','AMGN','OPY','AMSWA','VBF','COO','VSEC','MOD','PRG','KEX','MEI','SBR','TYL','WAFD','VXRT','TRP','SSY','BCE','CSPI','SSL','ROG','NSC','IDCC','BBWI','PEGY','BIO','INTG','CI','TEVA','HUM','NOC','TDS','ELSE','BC','ROK','SLB','ALOT','OXY','LHX','CIA','FSTR','CECO','USAU','CDE','COP','RGLD','GLW','DXC','KGC','VLO','CBRL','ERIC','NSSC','WMB','GNTX','SO','BAX','RRC','UHS','BXMT','LEE','JOB','HD','RAND','MXF','UFI','BRO','ALNT','USLM','LGL','BH','KEQU','SEIC','HURC','TEX','USEG','ARTW','BRID','ATRI','AROW','TDW','SIEB','PSA','FEIM','MARPS','CBT','MUX','KLAC','GL','ODC','LXU','FARM','HP','NPK','DSGR','FLXS','SMP','VIRC','SJT','BKTI','CMTL','TPL','UFCS','TM','UMBF','WEYS','ACU','ENZ','BPOP','CPK','ACNT','OXM','TRC','PBT','CTO','KWR','WABC','KOSS','BSET','AGYS','VHI','THC','EML','HWKN','ESP','NDSN','KAMN','NVO','POWL','HXL','UG','MTB','OKE','TFX','AAME','GFI','TWIN','WMK','PVH','CET','AON','FRD','CUZ','GLT','PATK','NEU','CTS','DDS','HVT','CFR','MCS','WELL',\n",
    "    #     'MGEE','DLX','WEN','CW','NTRS','CAL','NKE','J','RRX','AIR','ALK','GHM','ZION','MTRN','SXT','EDUC','NVRI','WST','PKE','FLS','ESCA','PCH','GRC','RPM','BCV','TMO','SCI','CMA','HNI','SWK','MYE','PH','CCK','TSN','B','AIT','TRMK','WOR','LANC','JWN','NL','AZZ','SIGI','UL','KELYA','NRT','FELE','SWN','BOH','PAI','STEW','EBF','ELME','ASH','LNC','OMC','SOR','HL','UDR','INSI','CINF','TFC','PEO','AFG','OMI','ASB','HES','GPC','SON','HAS','JHS','TY','L','LPX','STT','VSH','ABM','IPG','VTRS','MAS','FMC','COHU','LEN','HSY','WEC','HBAN','BHP','RF','GAM','APD','CSWC','VNO','JHI','NEM','ADM','NUE','SPXC','RHI','CBSH','TT','FITB','LEG','EFX','MTR','IMO','NJR','KMB','MLKN','DOV','PPG','DUK','FHN','MUR','D','TR','SUP','PHG','FSS','PHM','ADI','CSX','ADX','NWL','NX','SYK','RLI','SEE','JPM','EQT','TGNA','HEI','VFC','R','SHW','CAG','ADP','GSK','CHD','DCI','GIS','LUMN','TTC','WTRG',\n",
    "    #     'KR', 'KO', 'HPQ', 'MO','WHR','SONY','WDFC','WGO','CMI','AVA','GTY','AVY','EVRG','FUL','SNA','KLIC','OLN','TER','BKH','RVTY','MATX','AVT','NYT','CSL','TRN','TXT','LNT','EIX','CLF','MMC','CNA','CVS','HE','XEL','NFG','PNR','ITW','SPGI','BDX','WY','ECL','SGC','PHI','SYY','K','CPB','OGE','CLX','BMI','BAC','MSB','MKC','BK'\n",
    "    # ]\n",
    "    \n",
    "    \n",
    "    stocks_to_load = set(all_files)\n",
    "    dataloader = TimeseriesDataloader(directory_path, stocks_to_load, add_diff=False)\n",
    "    \n",
    "    data=dataloader.get_data().transpose(0, 1).cuda()\n",
    "\n",
    "    torch.save(data, input_tensor_file)\n",
    "\n",
    "    print(f\"Tensor saved successfully: {input_tensor_file}\")\n",
    "\n",
    "end_time = time.time()\n",
    "execution_time = end_time - start_time\n",
    "\n",
    "print(f\"Execution time: {execution_time:.4f} seconds\")"
   ]
  },
  {
   "cell_type": "code",
   "execution_count": null,
   "id": "e3292349-5057-4ed6-b4b5-000e62217bb8",
   "metadata": {},
   "outputs": [],
   "source": [
    "window_size = 16\n",
    "\n",
    "def extract_sliding_windows(tensor, window_size):        \n",
    "    windows = tensor.unfold(1, window_size, 1)\n",
    "    return windows\n",
    "\n",
    "sliding_windows=extract_sliding_windows(data, window_size)\n",
    "\n",
    "print(sliding_windows.shape)\n"
   ]
  },
  {
   "cell_type": "code",
   "execution_count": null,
   "id": "2c276157-d695-4309-8e37-3f77d1650745",
   "metadata": {},
   "outputs": [],
   "source": [
    "training_data = data.transpose(0, 1)\n",
    "print(training_data.shape)"
   ]
  },
  {
   "cell_type": "code",
   "execution_count": null,
   "id": "97cd1e81-8ceb-4f8a-86f3-f4f65b0bb559",
   "metadata": {},
   "outputs": [],
   "source": [
    "num_of_channels=128"
   ]
  },
  {
   "cell_type": "code",
   "execution_count": null,
   "id": "36cde7ed-5fb2-4ac3-9bab-69307f8c8e1a",
   "metadata": {},
   "outputs": [],
   "source": [
    "training_data = data[0:num_of_channels].transpose(0, 1)\n",
    "print(training_data.shape)"
   ]
  },
  {
   "cell_type": "code",
   "execution_count": null,
   "id": "2948ca1f-5119-4db1-aae2-9fd578401e5f",
   "metadata": {},
   "outputs": [],
   "source": [
    "config = TransformerConfig(\n",
    "    precision=torch.float32,\n",
    "    # precision=torch.bfloat16,\n",
    "    # precision=torch.float32,\n",
    "    batch_size=128,\n",
    "    block_size=window_size,\n",
    "    causal=True,\n",
    "    input_embed=num_of_channels,\n",
    "    n_embed=64,\n",
    "    output_embed=num_of_channels,\n",
    "    n_head=8,\n",
    "    n_layer=4,\n",
    "    learning_rate=1e-4,\n",
    "    my_device='mps'\n",
    ")\n",
    "config.eval_interval=50\n",
    "\n",
    "trainer1 = KarpathyTransformerRunner(config, training_data, training_data)\n",
    "\n",
    "trainer1.train_iterate_n(20000)"
   ]
  },
  {
   "cell_type": "code",
   "execution_count": null,
   "id": "d62ab896-478a-4ab0-a501-9fc9a2f20a55",
   "metadata": {},
   "outputs": [],
   "source": []
  }
 ],
 "metadata": {
  "kernelspec": {
   "display_name": "Python 3 (ipykernel)",
   "language": "python",
   "name": "python3"
  },
  "language_info": {
   "codemirror_mode": {
    "name": "ipython",
    "version": 3
   },
   "file_extension": ".py",
   "mimetype": "text/x-python",
   "name": "python",
   "nbconvert_exporter": "python",
   "pygments_lexer": "ipython3",
   "version": "3.8.18"
  }
 },
 "nbformat": 4,
 "nbformat_minor": 5
}
